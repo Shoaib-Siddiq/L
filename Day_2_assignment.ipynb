{
  "cells": [
    {
      "cell_type": "markdown",
      "metadata": {
        "id": "view-in-github",
        "colab_type": "text"
      },
      "source": [
        "<a href=\"https://colab.research.google.com/github/Shoaib-Siddiq/L/blob/main/Day_2_assignment.ipynb\" target=\"_parent\"><img src=\"https://colab.research.google.com/assets/colab-badge.svg\" alt=\"Open In Colab\"/></a>"
      ]
    },
    {
      "cell_type": "code",
      "execution_count": null,
      "id": "7b0323ea-f88a-4e53-af9c-5316efb45dfb",
      "metadata": {
        "id": "7b0323ea-f88a-4e53-af9c-5316efb45dfb",
        "outputId": "9a80fbaf-beca-4c92-a997-7dd71ea0ebcb"
      },
      "outputs": [
        {
          "name": "stdout",
          "output_type": "stream",
          "text": [
            "Matrix A:\n",
            "[[1 2 3]\n",
            " [4 5 6]]\n",
            "\n",
            "Matrix B:\n",
            "[[ 7  8]\n",
            " [ 9 10]\n",
            " [11 12]]\n",
            "\n",
            "Result of Matrix A @ Matrix B:\n",
            "[[ 58  64]\n",
            " [139 154]]\n"
          ]
        }
      ],
      "source": [
        "import numpy as np\n",
        "\n",
        "# Define your matrices as NumPy arrays\n",
        "matrix_a = np.array([[1, 2, 3],\n",
        "                     [4, 5, 6]])\n",
        "\n",
        "matrix_b = np.array([[7, 8],\n",
        "                     [9, 10],\n",
        "                     [11, 12]])\n",
        "\n",
        "# Perform matrix multiplication using the @ operator (recommended for clarity)\n",
        "result = matrix_a @ matrix_b\n",
        "\n",
        "# Or, using np.dot()\n",
        "# result = np.dot(matrix_a, matrix_b)\n",
        "\n",
        "print(\"Matrix A:\")\n",
        "print(matrix_a)\n",
        "\n",
        "print(\"\\nMatrix B:\")\n",
        "print(matrix_b)\n",
        "\n",
        "print(\"\\nResult of Matrix A @ Matrix B:\")\n",
        "print(result)"
      ]
    },
    {
      "cell_type": "code",
      "execution_count": null,
      "id": "1d7843ef-863d-415f-adb3-d65360c9f7c6",
      "metadata": {
        "id": "1d7843ef-863d-415f-adb3-d65360c9f7c6",
        "outputId": "52425023-8689-4907-f458-6c3e28570f16"
      },
      "outputs": [
        {
          "name": "stdout",
          "output_type": "stream",
          "text": [
            "Original data: [15 25 35 45 55]\n",
            "Min-Max Scaled data: [0.   0.25 0.5  0.75 1.  ]\n",
            "Standardized data: [-1.41421356 -0.70710678  0.          0.70710678  1.41421356]\n"
          ]
        }
      ],
      "source": [
        "import numpy as np\n",
        "\n",
        "# Sample dataset\n",
        "data = np.array([15, 25, 35, 45, 55])\n",
        "\n",
        "# Min-Max Scaling: rescales data to [0,1]\n",
        "def min_max_scaling(x):\n",
        "    return (x - np.min(x)) / (np.max(x) - np.min(x))\n",
        "\n",
        "# Standardization: zero mean and unit variance\n",
        "def standardize(x):\n",
        "    return (x - np.mean(x)) / np.std(x)\n",
        "\n",
        "scaled_data = min_max_scaling(data)\n",
        "standardized_data = standardize(data)\n",
        "\n",
        "print(\"Original data:\", data)\n",
        "print(\"Min-Max Scaled data:\", scaled_data)\n",
        "print(\"Standardized data:\", standardized_data)"
      ]
    },
    {
      "cell_type": "code",
      "execution_count": null,
      "id": "42fa7162-f62d-4d69-a3d8-a0e79031e16e",
      "metadata": {
        "id": "42fa7162-f62d-4d69-a3d8-a0e79031e16e"
      },
      "outputs": [],
      "source": []
    }
  ],
  "metadata": {
    "kernelspec": {
      "display_name": "Python 3 (ipykernel)",
      "language": "python",
      "name": "python3"
    },
    "language_info": {
      "codemirror_mode": {
        "name": "ipython",
        "version": 3
      },
      "file_extension": ".py",
      "mimetype": "text/x-python",
      "name": "python",
      "nbconvert_exporter": "python",
      "pygments_lexer": "ipython3",
      "version": "3.13.5"
    },
    "colab": {
      "provenance": [],
      "include_colab_link": true
    }
  },
  "nbformat": 4,
  "nbformat_minor": 5
}