{
  "cells": [
    {
      "cell_type": "markdown",
      "metadata": {
        "id": "view-in-github",
        "colab_type": "text"
      },
      "source": [
        "<a href=\"https://colab.research.google.com/github/Shoaib-Siddiq/L/blob/main/Day_3_assignment.ipynb\" target=\"_parent\"><img src=\"https://colab.research.google.com/assets/colab-badge.svg\" alt=\"Open In Colab\"/></a>"
      ]
    },
    {
      "cell_type": "code",
      "execution_count": null,
      "id": "42add235-f8f6-4072-b309-8b03c1ab0bc4",
      "metadata": {
        "id": "42add235-f8f6-4072-b309-8b03c1ab0bc4",
        "outputId": "df2fc800-69e0-47b1-e157-14889d91dac7"
      },
      "outputs": [
        {
          "name": "stdout",
          "output_type": "stream",
          "text": [
            "Probability of heads: 0.6\n",
            "Probability of tails: 0.4\n"
          ]
        }
      ],
      "source": [
        "# Part 1: Coin Flip Probabilities\n",
        "total_flips = 100\n",
        "heads = 60\n",
        "tails = 40\n",
        "\n",
        "probability_heads = heads / total_flips\n",
        "probability_tails = tails / total_flips\n",
        "\n",
        "print(f\"Probability of heads: {probability_heads}\")\n",
        "print(f\"Probability of tails: {probability_tails}\")"
      ]
    },
    {
      "cell_type": "code",
      "execution_count": null,
      "id": "83657e5d-b560-43f0-a0b1-8a05cc189558",
      "metadata": {
        "id": "83657e5d-b560-43f0-a0b1-8a05cc189558",
        "outputId": "933e87d1-bcfd-4433-e3c5-5447997c7560"
      },
      "outputs": [
        {
          "name": "stdout",
          "output_type": "stream",
          "text": [
            "P(Disease): 0.01\n",
            "P(Positive Test | Disease): 0.95\n",
            "P(Positive Test | No Disease): 0.02\n",
            "P(No Disease): 0.99\n",
            "P(Positive Test): 0.0293\n",
            "P(Disease | Positive Test): 0.3242320819112628\n"
          ]
        }
      ],
      "source": [
        "# Part 2: Bayes' Theorem Scenario\n",
        "# Define probabilities\n",
        "p_d = 0.01  # P(Disease) - Prevalence\n",
        "p_t_given_d = 0.95  # P(Positive Test | Disease) - Sensitivity\n",
        "p_t_given_not_d = 0.02  # P(Positive Test | No Disease) - False Positive Rate\n",
        "\n",
        "# Calculate P(No Disease)\n",
        "p_not_d = 1 - p_d\n",
        "\n",
        "# Calculate P(Positive Test) using the law of total probability\n",
        "p_t = (p_t_given_d * p_d) + (p_t_given_not_d * p_not_d)\n",
        "\n",
        "# Apply Bayes' Theorem to find P(Disease | Positive Test)\n",
        "p_d_given_t = (p_t_given_d * p_d) / p_t\n",
        "\n",
        "print(f\"P(Disease): {p_d}\")\n",
        "print(f\"P(Positive Test | Disease): {p_t_given_d}\")\n",
        "print(f\"P(Positive Test | No Disease): {p_t_given_not_d}\")\n",
        "print(f\"P(No Disease): {p_not_d}\")\n",
        "print(f\"P(Positive Test): {p_t}\")\n",
        "print(f\"P(Disease | Positive Test): {p_d_given_t}\")"
      ]
    },
    {
      "cell_type": "code",
      "execution_count": null,
      "id": "f7519514-ea81-452a-b61c-d787d81839a3",
      "metadata": {
        "id": "f7519514-ea81-452a-b61c-d787d81839a3",
        "outputId": "40311108-519a-4c8c-f16e-617c9eadbcee"
      },
      "outputs": [
        {
          "name": "stdout",
          "output_type": "stream",
          "text": [
            "The derivative of f(x) at x = 1 is 8\n"
          ]
        }
      ],
      "source": [
        "def f(x):\n",
        "    return 3 * x**2 + 2 * x - 5\n",
        "\n",
        "def derivative_f(x):\n",
        "    # Derivative of f(x) = 3x^2 + 2x - 5 is f'(x) = 6x + 2\n",
        "    return 6 * x + 2\n",
        "\n",
        "# Example: compute the derivative at x = 1\n",
        "x_value = 1\n",
        "slope = derivative_f(x_value)\n",
        "\n",
        "print(f\"The derivative of f(x) at x = {x_value} is {slope}\")\n"
      ]
    },
    {
      "cell_type": "code",
      "execution_count": null,
      "id": "5b6be9ce-ea22-442c-a10f-9c0f915c6a24",
      "metadata": {
        "id": "5b6be9ce-ea22-442c-a10f-9c0f915c6a24",
        "outputId": "a1a0e595-6c71-40c3-97f9-02c23fe14414"
      },
      "outputs": [
        {
          "name": "stdout",
          "output_type": "stream",
          "text": [
            "Updated x after one step of gradient descent: 0.19999999999999996\n"
          ]
        }
      ],
      "source": [
        "learning_rate = 0.1\n",
        "x = 1  # starting point\n",
        "\n",
        "# Compute the slope\n",
        "grad = derivative_f(x)\n",
        "\n",
        "# Update x in the opposite direction of the slope\n",
        "x = x - learning_rate * grad\n",
        "\n",
        "print(f\"Updated x after one step of gradient descent: {x}\")\n"
      ]
    },
    {
      "cell_type": "code",
      "execution_count": null,
      "id": "f4a997cb-eff5-495c-9532-d7f036615cb4",
      "metadata": {
        "id": "f4a997cb-eff5-495c-9532-d7f036615cb4"
      },
      "outputs": [],
      "source": []
    }
  ],
  "metadata": {
    "kernelspec": {
      "display_name": "Python 3 (ipykernel)",
      "language": "python",
      "name": "python3"
    },
    "language_info": {
      "codemirror_mode": {
        "name": "ipython",
        "version": 3
      },
      "file_extension": ".py",
      "mimetype": "text/x-python",
      "name": "python",
      "nbconvert_exporter": "python",
      "pygments_lexer": "ipython3",
      "version": "3.13.5"
    },
    "colab": {
      "provenance": [],
      "include_colab_link": true
    }
  },
  "nbformat": 4,
  "nbformat_minor": 5
}